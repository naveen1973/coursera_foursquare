{
 "cells": [
  {
   "cell_type": "code",
   "execution_count": 2,
   "metadata": {},
   "outputs": [],
   "source": [
    "import pandas as pd"
   ]
  },
  {
   "cell_type": "code",
   "execution_count": 3,
   "metadata": {},
   "outputs": [],
   "source": [
    "df = pd.read_csv(\"500_Cities__Local_Data_for_Better_Health__2019_release.csv\")"
   ]
  },
  {
   "cell_type": "code",
   "execution_count": 4,
   "metadata": {},
   "outputs": [
    {
     "data": {
      "text/plain": [
       "810103"
      ]
     },
     "execution_count": 4,
     "metadata": {},
     "output_type": "execute_result"
    }
   ],
   "source": [
    "df.head()\n",
    "len(df)"
   ]
  },
  {
   "cell_type": "code",
   "execution_count": 5,
   "metadata": {},
   "outputs": [],
   "source": [
    "# make my filters\n",
    "df_small = df[(df['Year'] == 2017) & # select year\n",
    "              (df['MeasureId'] == \"OBESITY\") & # select disease\n",
    "              (df['Measure'] == \"Obesity among adults aged >=18 Years\")  & # \n",
    "              (df['GeographicLevel'] == \"City\") & # we want at city level\n",
    "              (df['DataValueTypeID'] == \"AgeAdjPrv\")  # age adjusted level\n",
    "             ]"
   ]
  },
  {
   "cell_type": "code",
   "execution_count": 6,
   "metadata": {},
   "outputs": [],
   "source": [
    "# select columns\n",
    "df_small[['CityName', 'Data_Value','PopulationCount', 'GeoLocation', 'CityFIPS']].to_csv('obesity.csv')"
   ]
  },
  {
   "cell_type": "code",
   "execution_count": 7,
   "metadata": {},
   "outputs": [
    {
     "data": {
      "text/html": [
       "<div>\n",
       "<style scoped>\n",
       "    .dataframe tbody tr th:only-of-type {\n",
       "        vertical-align: middle;\n",
       "    }\n",
       "\n",
       "    .dataframe tbody tr th {\n",
       "        vertical-align: top;\n",
       "    }\n",
       "\n",
       "    .dataframe thead th {\n",
       "        text-align: right;\n",
       "    }\n",
       "</style>\n",
       "<table border=\"1\" class=\"dataframe\">\n",
       "  <thead>\n",
       "    <tr style=\"text-align: right;\">\n",
       "      <th></th>\n",
       "      <th>CityName</th>\n",
       "      <th>Data_Value</th>\n",
       "      <th>PopulationCount</th>\n",
       "      <th>GeoLocation</th>\n",
       "      <th>CityFIPS</th>\n",
       "    </tr>\n",
       "  </thead>\n",
       "  <tbody>\n",
       "    <tr>\n",
       "      <th>102</th>\n",
       "      <td>Roswell</td>\n",
       "      <td>23.7</td>\n",
       "      <td>88,346</td>\n",
       "      <td>(34.0391384583, -84.3512225277)</td>\n",
       "      <td>1367284.0</td>\n",
       "    </tr>\n",
       "    <tr>\n",
       "      <th>3020</th>\n",
       "      <td>Columbus</td>\n",
       "      <td>38.2</td>\n",
       "      <td>189,885</td>\n",
       "      <td>(32.5099614852, -84.8770410586)</td>\n",
       "      <td>1319000.0</td>\n",
       "    </tr>\n",
       "    <tr>\n",
       "      <th>4442</th>\n",
       "      <td>Boise City</td>\n",
       "      <td>27.9</td>\n",
       "      <td>205,671</td>\n",
       "      <td>(43.5984343897, -116.230885189)</td>\n",
       "      <td>1608830.0</td>\n",
       "    </tr>\n",
       "    <tr>\n",
       "      <th>5766</th>\n",
       "      <td>Savannah</td>\n",
       "      <td>37.8</td>\n",
       "      <td>136,286</td>\n",
       "      <td>(32.0283615157, -81.1783435493)</td>\n",
       "      <td>1369000.0</td>\n",
       "    </tr>\n",
       "    <tr>\n",
       "      <th>5792</th>\n",
       "      <td>Warner Robins</td>\n",
       "      <td>38.6</td>\n",
       "      <td>66,588</td>\n",
       "      <td>(32.5985113609, -83.6530271267)</td>\n",
       "      <td>1380508.0</td>\n",
       "    </tr>\n",
       "  </tbody>\n",
       "</table>\n",
       "</div>"
      ],
      "text/plain": [
       "           CityName  Data_Value PopulationCount  \\\n",
       "102         Roswell        23.7          88,346   \n",
       "3020       Columbus        38.2         189,885   \n",
       "4442     Boise City        27.9         205,671   \n",
       "5766       Savannah        37.8         136,286   \n",
       "5792  Warner Robins        38.6          66,588   \n",
       "\n",
       "                          GeoLocation   CityFIPS  \n",
       "102   (34.0391384583, -84.3512225277)  1367284.0  \n",
       "3020  (32.5099614852, -84.8770410586)  1319000.0  \n",
       "4442  (43.5984343897, -116.230885189)  1608830.0  \n",
       "5766  (32.0283615157, -81.1783435493)  1369000.0  \n",
       "5792  (32.5985113609, -83.6530271267)  1380508.0  "
      ]
     },
     "execution_count": 7,
     "metadata": {},
     "output_type": "execute_result"
    }
   ],
   "source": [
    "df_small[['CityName', 'Data_Value','PopulationCount', 'GeoLocation', 'CityFIPS']].head()"
   ]
  },
  {
   "cell_type": "code",
   "execution_count": null,
   "metadata": {},
   "outputs": [],
   "source": []
  }
 ],
 "metadata": {
  "kernelspec": {
   "display_name": "Python 3",
   "language": "python",
   "name": "python3"
  },
  "language_info": {
   "codemirror_mode": {
    "name": "ipython",
    "version": 3
   },
   "file_extension": ".py",
   "mimetype": "text/x-python",
   "name": "python",
   "nbconvert_exporter": "python",
   "pygments_lexer": "ipython3",
   "version": "3.7.6"
  }
 },
 "nbformat": 4,
 "nbformat_minor": 4
}
